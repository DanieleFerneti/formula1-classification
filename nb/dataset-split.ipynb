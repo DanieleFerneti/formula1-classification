{
 "cells": [
  {
   "cell_type": "code",
   "execution_count": null,
   "id": "770a99d6-518f-47f4-9e05-3bce3bacd166",
   "metadata": {},
   "outputs": [],
   "source": [
    "import os\n",
    "import random\n",
    "import shutil\n",
    "\n",
    "# Define paths\n",
    "dataset_path = 'f1-monza-dataset'\n",
    "images_path = os.path.join(dataset_path, 'images')\n",
    "turns = [\"0-prima-variante\", \"1-biassono\", \"2-seconda-variante\",\"3-lesmo-uno\", \"4-lesmo-due\", \"5-ascari-uno\", \"6-ascari-due\", \"7-parabolica\"]\n",
    "\n",
    "\n",
    "# Train-test split ratio\n",
    "train_ratio = 0.70\n",
    "val_ratio = 0.15\n",
    "test_ratio = 0.15\n",
    "\n",
    "# Get list of image files\n",
    "images = [f for f in os.listdir(images_path) if f.endswith('.jpg')]\n",
    "print(images)\n",
    "random.shuffle(images)\n",
    "\n",
    "# Calculate split indices\n",
    "train_split = int(train_ratio * len(images))\n",
    "val_split = int((train_ratio + val_ratio) * len(images))\n",
    "\n",
    "# Split into train, val, test\n",
    "train_images = images[:train_split]\n",
    "val_images = images[train_split:val_split]\n",
    "test_images = images[val_split:]\n",
    "\n",
    "# Move files\n",
    "def move_files(file_list, src_folder, dest_folder):\n",
    "    for file in file_list:\n",
    "        subdir = turns[int(file.split(\"__\")[1])]\n",
    "        print(subdir)\n",
    "        dest_folder_turns = os.path.join(dest_folder, subdir)\n",
    "        print(dest_folder_turns)\n",
    "        shutil.move(os.path.join(src_folder, file), dest_folder_turns)\n",
    "\n",
    "move_files(train_images, images_path, os.path.join(images_path, 'train'))\n",
    "\n",
    "move_files(val_images, images_path, os.path.join(images_path, 'val'))\n",
    "\n",
    "move_files(test_images, images_path, os.path.join(images_path, 'test'))\n"
   ]
  }
 ],
 "metadata": {
  "kernelspec": {
   "display_name": "Python 3 (ipykernel)",
   "language": "python",
   "name": "python3"
  },
  "language_info": {
   "codemirror_mode": {
    "name": "ipython",
    "version": 3
   },
   "file_extension": ".py",
   "mimetype": "text/x-python",
   "name": "python",
   "nbconvert_exporter": "python",
   "pygments_lexer": "ipython3",
   "version": "3.9.6"
  }
 },
 "nbformat": 4,
 "nbformat_minor": 5
}
