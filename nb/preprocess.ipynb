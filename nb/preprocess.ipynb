{
  "nbformat": 4,
  "nbformat_minor": 0,
  "metadata": {
    "colab": {
      "provenance": [],
      "authorship_tag": "ABX9TyPiRFW6U8Ak9S5WEIDt9hDu"
    },
    "kernelspec": {
      "name": "python3",
      "display_name": "Python 3"
    },
    "language_info": {
      "name": "python"
    }
  },
  "cells": [
    {
      "cell_type": "code",
      "execution_count": null,
      "metadata": {
        "colab": {
          "base_uri": "https://localhost:8080/"
        },
        "id": "c3fln7xwpvm7",
        "outputId": "d4e7ad37-bd95-40e1-ec4b-c96630427501"
      },
      "outputs": [
        {
          "output_type": "stream",
          "name": "stdout",
          "text": [
            "Mounted at /content/drive\n"
          ]
        }
      ],
      "source": [
        "from google.colab import drive\n",
        "drive.mount('/content/drive')\n"
      ]
    },
    {
      "cell_type": "code",
      "source": [
        "import cv2\n",
        "import os\n",
        "\n",
        "# Mostra la directory di lavoro corrente\n",
        "current_directory = os.getcwd()\n",
        "print(\"Current Directory:\", current_directory)"
      ],
      "metadata": {
        "colab": {
          "base_uri": "https://localhost:8080/"
        },
        "id": "t6oUaI0nrybQ",
        "outputId": "c9b6f2a6-3269-41db-d9f3-ae8bf29d9c7f"
      },
      "execution_count": null,
      "outputs": [
        {
          "output_type": "stream",
          "name": "stdout",
          "text": [
            "Current Directory: /content\n"
          ]
        }
      ]
    },
    {
      "cell_type": "code",
      "source": [
        "# Percorso del video di input\n",
        "INPUT_VIDEO_FILE_PATH = \"media/\"\n",
        "\n",
        "# Percorso del video di output\n",
        "OUTPUT_VIDEO_FILE_PATH = \"media/\"\n",
        "\n",
        "INPUT_VIDEO_FILE_PATH = \"/drive/MyDrive/dev/formula1-classification/media/hamilton.mp4\"\n",
        "OUTPUT_VIDEO_FILE_PATH = \"/drive/MyDrive/dev/formula1-classification/media/hamilton-processed.mp4\"\n",
        "\n",
        "\n",
        "print('* input file: ' + INPUT_VIDEO_FILE_PATH)\n",
        "print('** output file: ' + OUTPUT_VIDEO_FILE_PATH)\n",
        "\n",
        "\n",
        "# Nuovi FPS desiderati\n",
        "new_fps = 25\n",
        "\n",
        "OUTPUT_RESOLUTION = (480, 480)\n",
        "\n",
        "# Crea un oggetto VideoCapture per leggere il video\n",
        "cap = cv2.VideoCapture(INPUT_VIDEO_FILE_PATH)\n",
        "\n",
        "# Verifica se il video è stato aperto correttamente\n",
        "if not cap.isOpened():\n",
        "    print(\"Errore nell'apertura del file video\")\n",
        "    exit()\n",
        "\n",
        "# Ottieni i parametri del video originale\n",
        "original_width = int(cap.get(cv2.CAP_PROP_FRAME_WIDTH))\n",
        "original_height = int(cap.get(cv2.CAP_PROP_FRAME_HEIGHT))\n",
        "original_fps = int(cap.get(cv2.CAP_PROP_FPS))\n",
        "\n",
        "print(original_fps)\n",
        "print(new_fps)\n",
        "print(int(original_fps/new_fps))\n",
        "\n",
        "# Calcola l'intervallo di frame da mantenere per ottenere i nuovi FPS\n",
        "frame_interval = int(original_fps / new_fps)\n",
        "\n",
        "print(frame_interval, original_fps)\n",
        "\n",
        "# Crea un oggetto VideoWriter per salvare il video con i nuovi FPS\n",
        "fourcc = cv2.VideoWriter_fourcc(*'XVID')\n",
        "out = cv2.VideoWriter(OUTPUT_VIDEO_FILE_PATH, fourcc, new_fps, OUTPUT_RESOLUTION, isColor = True)\n",
        "\n",
        "frame_count = 0\n",
        "\n",
        "while True:\n",
        "    # Leggi un frame dal video\n",
        "    ret, frame = cap.read()\n",
        "\n",
        "    # Se il frame non è stato letto correttamente, esci dal ciclo\n",
        "    if not ret:\n",
        "        break\n",
        "\n",
        "    # Seleziona i frame necessari in base all'intervallo calcolato\n",
        "    if (frame_count % 2) == 0:\n",
        "        frame = cv2.resize(frame, OUTPUT_RESOLUTION)\n",
        "        cv2.rectangle(frame, (50,100), (180,120), (0,0,0), -1)\n",
        "        cv2.rectangle(frame, (0,120), (224,224), (0,0,0), -1)\n",
        "        frame = cv2.GaussianBlur(frame, (3, 3), 0)\n",
        "        frame = cv2.cvtColor(frame, cv2.COLOR_BGR2HSV)\n",
        "        #frame[..., 2] = cv2.subtract(frame[..., 2], 50)\n",
        "        out.write(frame)\n",
        "\n",
        "    frame_count += 1\n",
        "\n",
        "# Rilascia gli oggetti VideoCapture e VideoWriter\n",
        "cap.release()\n",
        "out.release()\n",
        "\n",
        "print(\"*** Video processed ...\")"
      ],
      "metadata": {
        "colab": {
          "base_uri": "https://localhost:8080/"
        },
        "id": "QMxnZmn3r-HI",
        "outputId": "8cc0be40-88c9-428a-a1d5-721b27ae583e"
      },
      "execution_count": null,
      "outputs": [
        {
          "output_type": "stream",
          "name": "stdout",
          "text": [
            "* input file: /drive/MyDrive/dev/formula1-classification/media/hamilton.mp4\n",
            "** output file: /drive/MyDrive/dev/formula1-classification/media/hamilton-processed.mp4\n",
            "Errore nell'apertura del file video\n",
            "0\n",
            "25\n",
            "0\n",
            "0 0\n",
            "*** Video processed ...\n"
          ]
        }
      ]
    }
  ]
}